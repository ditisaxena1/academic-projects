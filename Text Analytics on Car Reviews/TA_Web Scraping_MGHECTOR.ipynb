{
 "cells": [
  {
   "cell_type": "code",
   "execution_count": 13,
   "metadata": {},
   "outputs": [
    {
     "name": "stdout",
     "output_type": "stream",
     "text": [
      "Requirement already satisfied: selenium in c:\\users\\1025888\\appdata\\local\\continuum\\anaconda3\\lib\\site-packages (3.141.0)\n",
      "Requirement already satisfied: urllib3 in c:\\users\\1025888\\appdata\\local\\continuum\\anaconda3\\lib\\site-packages (from selenium) (1.24.2)\n",
      "Note: you may need to restart the kernel to use updated packages.\n"
     ]
    }
   ],
   "source": [
    "pip install selenium"
   ]
  },
  {
   "cell_type": "code",
   "execution_count": 1,
   "metadata": {},
   "outputs": [],
   "source": [
    "import selenium"
   ]
  },
  {
   "cell_type": "code",
   "execution_count": 2,
   "metadata": {},
   "outputs": [],
   "source": [
    "from selenium import webdriver\n",
    "from selenium.webdriver.common.by import By\n",
    "from selenium.webdriver.support.ui import WebDriverWait\n",
    "from selenium.webdriver.support import expected_conditions as EC"
   ]
  },
  {
   "cell_type": "code",
   "execution_count": 3,
   "metadata": {},
   "outputs": [],
   "source": [
    "import time\n",
    "import os\n",
    "import csv\n",
    "import pandas as pd\n",
    "from math import ceil"
   ]
  },
  {
   "cell_type": "code",
   "execution_count": 4,
   "metadata": {},
   "outputs": [],
   "source": [
    "locationOfWebdriver = \"/Users/pravin chaudhary/Desktop/ISB/RESIDENCY1/Dara Collection/chromedriver.exe\""
   ]
  },
  {
   "cell_type": "code",
   "execution_count": 51,
   "metadata": {},
   "outputs": [],
   "source": [
    "driver = webdriver.Chrome(locationOfWebdriver)"
   ]
  },
  {
   "cell_type": "code",
   "execution_count": 50,
   "metadata": {},
   "outputs": [
    {
     "name": "stdout",
     "output_type": "stream",
     "text": [
      "https://www.cardekho.com/mg/hector/user-reviews/1?subtab=latest\n",
      "https://www.cardekho.com/mg/hector/user-reviews/2?subtab=latest\n",
      "https://www.cardekho.com/mg/hector/user-reviews/3?subtab=latest\n",
      "https://www.cardekho.com/mg/hector/user-reviews/4?subtab=latest\n",
      "https://www.cardekho.com/mg/hector/user-reviews/5?subtab=latest\n",
      "https://www.cardekho.com/mg/hector/user-reviews/6?subtab=latest\n",
      "https://www.cardekho.com/mg/hector/user-reviews/7?subtab=latest\n",
      "https://www.cardekho.com/mg/hector/user-reviews/8?subtab=latest\n",
      "https://www.cardekho.com/mg/hector/user-reviews/9?subtab=latest\n"
     ]
    }
   ],
   "source": [
    "for i in range(1,10,1):\n",
    "        cookedurl = \"https://www.cardekho.com/mg/hector/user-reviews/\"+str(i)+\"?subtab=latest\"\n",
    "        \n",
    "        #https://www.cardekho.com/mg/hector/user-reviews/2?subtab=latest\n",
    "        print (cookedurl)"
   ]
  },
  {
   "cell_type": "code",
   "execution_count": 52,
   "metadata": {},
   "outputs": [],
   "source": [
    "Review1 = []\n",
    "Date1 = []\n",
    "Rating1 = []\n",
    "User1 = []\n",
    "Websi = []\n",
    "Brand = []\n",
    "i = 1"
   ]
  },
  {
   "cell_type": "code",
   "execution_count": 53,
   "metadata": {},
   "outputs": [],
   "source": [
    "for i in range(1,10,1):\n",
    "    \n",
    "    url = \"https://www.cardekho.com/mg/hector/user-reviews/\"+str(i)+\"?subtab=latest\"\n",
    "    #url = \"https://www.flipkart.com/search?q=mobiles&sid=tyy%2C4io&as=on&as-show=on&otracker=AS_QueryStore_OrganicAutoSuggest_0_6_na_na_pr&otracker1=AS_QueryStore_OrganicAutoSuggest_0_6_na_na_pr&as-pos=0&as-type=RECENT&suggestionId=mobiles&requestId=a8f373d3-10b5-4df5-8e29-4f70f3dc9cb7&as-backfill=on&p%5B%5D=facets.price_range.from%3D4000&p%5B%5D=facets.price_range.to%3DMax&p%5B%5D=facets.serviceability%5B%5D%3Dfalse&page=\"+str(i)+\"\"\n",
    "    #url = \"https://www.flipkart.com/search?q=mobiles&as=on&as-show=on&otracker=AS_Query_TrendingAutoSuggest_1_0_na_na_na&otracker1=AS_Query_TrendingAutoSuggest_1_0_na_na_na&as-pos=1&as-type=TRENDING&suggestionId=mobiles&requestId=b932ecb5-4bed-4c3d-bb5d-59393ef9a504&p%5B%5D=facets.serviceability%5B%5D%3Dtrue&p%5B%5D=facets.price_range.from%3D4000&p%5B%5D=facets.price_range.to%3DMax&page=\"+ str(i)+\"\"\n",
    "    #url=\"https://www.flipkart.com/search?q=centric+mobile&as=on&as-show=on&otracker=AS_Query_OrganicAutoSuggest_0_15_na_na_na&otracker1=AS_Query_OrganicAutoSuggest_0_15_na_na_na&as-pos=0&as-type=RECENT&suggestionId=centric+mobile&requestId=b9fe04e2-bd7c-4160-a6af-b2b6d6e84c5a&as-backfill=on\"\n",
    "\n",
    "    driver.get(url)\n",
    "\n",
    "    buttons = driver.find_elements_by_class_name(\"pagination bg-white\")\n",
    "    for button in buttons:\n",
    "        try:\n",
    "            button.click()\n",
    "            time.sleep(1)\n",
    "        except:\n",
    "            pass\n",
    "    Review = driver.find_elements_by_class_name(\"contentheight\")\n",
    "    for a in Review:\n",
    "        Review1.append(a.text)\n",
    "        \n",
    "    \n",
    "    Date = driver.find_elements_by_class_name(\"date\")\n",
    "    for a in Date:\n",
    "        Date1.append(a.text)\n",
    "       \n",
    "    \n",
    "    Ratings = driver.find_elements_by_class_name(\"starRating\")\n",
    "    for a in Ratings:\n",
    "         Rating1.append(a.text)\n",
    "        \n",
    "                  \n",
    "    User = driver.find_elements_by_class_name(\"name\")\n",
    "    for a in User:\n",
    "          User1.append(a.text)\n",
    "          Websi.append('www.cardekho.com')\n",
    "          Brand.append('MG Hector')\n",
    "            \n",
    "    #exp = exp[:-1]    "
   ]
  },
  {
   "cell_type": "code",
   "execution_count": 54,
   "metadata": {},
   "outputs": [
    {
     "name": "stdout",
     "output_type": "stream",
     "text": [
      "254\n",
      "293\n",
      "245\n",
      "266\n",
      "266\n",
      "266\n"
     ]
    }
   ],
   "source": [
    "print(len(Review1))\n",
    "print(len(Date1))\n",
    "print(len(Rating1))\n",
    "print(len(User1))\n",
    "print(len(Websi))\n",
    "print(len(Brand))"
   ]
  },
  {
   "cell_type": "code",
   "execution_count": 55,
   "metadata": {},
   "outputs": [],
   "source": [
    "Review1 = Review1[:245]\n",
    "Date1 = Date1[:245]\n",
    "Rating1 = Rating1[:245]\n",
    "User1 = User1[:245]\n",
    "\n",
    "Websi = Websi[:245]\n",
    "Brand = Brand[:245]"
   ]
  },
  {
   "cell_type": "code",
   "execution_count": 56,
   "metadata": {},
   "outputs": [
    {
     "name": "stdout",
     "output_type": "stream",
     "text": [
      "0\n"
     ]
    }
   ],
   "source": [
    "print(len(Website))"
   ]
  },
  {
   "cell_type": "code",
   "execution_count": 58,
   "metadata": {},
   "outputs": [],
   "source": [
    "FKResult= pd.DataFrame({'Review Text' : Review1, 'Review Date':Date1, 'Star Ratings':Rating1, 'Review Website': Websi, 'Brand Name' : Brand})\n",
    "\n",
    "#FKResult\n",
    "\n",
    "FKResult.to_csv('MGHECTOR.csv') \n",
    "\n"
   ]
  },
  {
   "cell_type": "code",
   "execution_count": null,
   "metadata": {},
   "outputs": [],
   "source": []
  },
  {
   "cell_type": "code",
   "execution_count": null,
   "metadata": {},
   "outputs": [],
   "source": []
  }
 ],
 "metadata": {
  "kernelspec": {
   "display_name": "Python 3",
   "language": "python",
   "name": "python3"
  },
  "language_info": {
   "codemirror_mode": {
    "name": "ipython",
    "version": 3
   },
   "file_extension": ".py",
   "mimetype": "text/x-python",
   "name": "python",
   "nbconvert_exporter": "python",
   "pygments_lexer": "ipython3",
   "version": "3.8.8"
  }
 },
 "nbformat": 4,
 "nbformat_minor": 2
}
